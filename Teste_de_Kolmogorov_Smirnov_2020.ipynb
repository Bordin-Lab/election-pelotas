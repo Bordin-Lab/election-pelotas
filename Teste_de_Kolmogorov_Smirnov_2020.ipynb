{
  "nbformat": 4,
  "nbformat_minor": 0,
  "metadata": {
    "colab": {
      "provenance": [],
      "include_colab_link": true
    },
    "kernelspec": {
      "name": "python3",
      "display_name": "Python 3"
    },
    "language_info": {
      "name": "python"
    }
  },
  "cells": [
    {
      "cell_type": "markdown",
      "metadata": {
        "id": "view-in-github",
        "colab_type": "text"
      },
      "source": [
        "<a href=\"https://colab.research.google.com/github/Bordin-Lab/election-pelotas/blob/main/Teste_de_Kolmogorov_Smirnov_2020.ipynb\" target=\"_parent\"><img src=\"https://colab.research.google.com/assets/colab-badge.svg\" alt=\"Open In Colab\"/></a>"
      ]
    },
    {
      "cell_type": "code",
      "execution_count": null,
      "metadata": {
        "id": "K0_6MfrVRKqN"
      },
      "outputs": [],
      "source": []
    },
    {
      "cell_type": "markdown",
      "metadata": {
        "id": "d2668bb4"
      },
      "source": [
        "# Task\n",
        "Realize um teste de Kolmogorov-Smirnov nos dados de votos contidos no arquivo \"/content/Eleição 2020 - Teste de Kolmogorov-Smirnov.xlsx\"."
      ]
    },
    {
      "cell_type": "markdown",
      "metadata": {
        "id": "1268e08c"
      },
      "source": [
        "## Carregar os dados\n",
        "\n",
        "### Subtask:\n",
        "Carregar os dados da planilha Excel em um DataFrame pandas.\n"
      ]
    },
    {
      "cell_type": "markdown",
      "metadata": {
        "id": "e5b28057"
      },
      "source": [
        "**Reasoning**:\n",
        "Import pandas and load the Excel file into a DataFrame, then display the head to verify the loading.\n",
        "\n"
      ]
    },
    {
      "cell_type": "code",
      "metadata": {
        "colab": {
          "base_uri": "https://localhost:8080/",
          "height": 206
        },
        "id": "d21a809e",
        "outputId": "0cbab889-595a-4143-84c1-61ab10648755"
      },
      "source": [
        "import pandas as pd\n",
        "\n",
        "df = pd.read_excel('/content/Eleição 2020 - Teste de Kolmogorov-Smirnov.xlsx')\n",
        "display(df.head())"
      ],
      "execution_count": null,
      "outputs": [
        {
          "output_type": "display_data",
          "data": {
            "text/plain": [
              "   Número de votos \n",
              "0              4899\n",
              "1              3645\n",
              "2              3422\n",
              "3              2736\n",
              "4              2626"
            ],
            "text/html": [
              "\n",
              "  <div id=\"df-a38179fe-9c3c-4d1f-958f-ef85d0d8241f\" class=\"colab-df-container\">\n",
              "    <div>\n",
              "<style scoped>\n",
              "    .dataframe tbody tr th:only-of-type {\n",
              "        vertical-align: middle;\n",
              "    }\n",
              "\n",
              "    .dataframe tbody tr th {\n",
              "        vertical-align: top;\n",
              "    }\n",
              "\n",
              "    .dataframe thead th {\n",
              "        text-align: right;\n",
              "    }\n",
              "</style>\n",
              "<table border=\"1\" class=\"dataframe\">\n",
              "  <thead>\n",
              "    <tr style=\"text-align: right;\">\n",
              "      <th></th>\n",
              "      <th>Número de votos</th>\n",
              "    </tr>\n",
              "  </thead>\n",
              "  <tbody>\n",
              "    <tr>\n",
              "      <th>0</th>\n",
              "      <td>4899</td>\n",
              "    </tr>\n",
              "    <tr>\n",
              "      <th>1</th>\n",
              "      <td>3645</td>\n",
              "    </tr>\n",
              "    <tr>\n",
              "      <th>2</th>\n",
              "      <td>3422</td>\n",
              "    </tr>\n",
              "    <tr>\n",
              "      <th>3</th>\n",
              "      <td>2736</td>\n",
              "    </tr>\n",
              "    <tr>\n",
              "      <th>4</th>\n",
              "      <td>2626</td>\n",
              "    </tr>\n",
              "  </tbody>\n",
              "</table>\n",
              "</div>\n",
              "    <div class=\"colab-df-buttons\">\n",
              "\n",
              "  <div class=\"colab-df-container\">\n",
              "    <button class=\"colab-df-convert\" onclick=\"convertToInteractive('df-a38179fe-9c3c-4d1f-958f-ef85d0d8241f')\"\n",
              "            title=\"Convert this dataframe to an interactive table.\"\n",
              "            style=\"display:none;\">\n",
              "\n",
              "  <svg xmlns=\"http://www.w3.org/2000/svg\" height=\"24px\" viewBox=\"0 -960 960 960\">\n",
              "    <path d=\"M120-120v-720h720v720H120Zm60-500h600v-160H180v160Zm220 220h160v-160H400v160Zm0 220h160v-160H400v160ZM180-400h160v-160H180v160Zm440 0h160v-160H620v160ZM180-180h160v-160H180v160Zm440 0h160v-160H620v160Z\"/>\n",
              "  </svg>\n",
              "    </button>\n",
              "\n",
              "  <style>\n",
              "    .colab-df-container {\n",
              "      display:flex;\n",
              "      gap: 12px;\n",
              "    }\n",
              "\n",
              "    .colab-df-convert {\n",
              "      background-color: #E8F0FE;\n",
              "      border: none;\n",
              "      border-radius: 50%;\n",
              "      cursor: pointer;\n",
              "      display: none;\n",
              "      fill: #1967D2;\n",
              "      height: 32px;\n",
              "      padding: 0 0 0 0;\n",
              "      width: 32px;\n",
              "    }\n",
              "\n",
              "    .colab-df-convert:hover {\n",
              "      background-color: #E2EBFA;\n",
              "      box-shadow: 0px 1px 2px rgba(60, 64, 67, 0.3), 0px 1px 3px 1px rgba(60, 64, 67, 0.15);\n",
              "      fill: #174EA6;\n",
              "    }\n",
              "\n",
              "    .colab-df-buttons div {\n",
              "      margin-bottom: 4px;\n",
              "    }\n",
              "\n",
              "    [theme=dark] .colab-df-convert {\n",
              "      background-color: #3B4455;\n",
              "      fill: #D2E3FC;\n",
              "    }\n",
              "\n",
              "    [theme=dark] .colab-df-convert:hover {\n",
              "      background-color: #434B5C;\n",
              "      box-shadow: 0px 1px 3px 1px rgba(0, 0, 0, 0.15);\n",
              "      filter: drop-shadow(0px 1px 2px rgba(0, 0, 0, 0.3));\n",
              "      fill: #FFFFFF;\n",
              "    }\n",
              "  </style>\n",
              "\n",
              "    <script>\n",
              "      const buttonEl =\n",
              "        document.querySelector('#df-a38179fe-9c3c-4d1f-958f-ef85d0d8241f button.colab-df-convert');\n",
              "      buttonEl.style.display =\n",
              "        google.colab.kernel.accessAllowed ? 'block' : 'none';\n",
              "\n",
              "      async function convertToInteractive(key) {\n",
              "        const element = document.querySelector('#df-a38179fe-9c3c-4d1f-958f-ef85d0d8241f');\n",
              "        const dataTable =\n",
              "          await google.colab.kernel.invokeFunction('convertToInteractive',\n",
              "                                                    [key], {});\n",
              "        if (!dataTable) return;\n",
              "\n",
              "        const docLinkHtml = 'Like what you see? Visit the ' +\n",
              "          '<a target=\"_blank\" href=https://colab.research.google.com/notebooks/data_table.ipynb>data table notebook</a>'\n",
              "          + ' to learn more about interactive tables.';\n",
              "        element.innerHTML = '';\n",
              "        dataTable['output_type'] = 'display_data';\n",
              "        await google.colab.output.renderOutput(dataTable, element);\n",
              "        const docLink = document.createElement('div');\n",
              "        docLink.innerHTML = docLinkHtml;\n",
              "        element.appendChild(docLink);\n",
              "      }\n",
              "    </script>\n",
              "  </div>\n",
              "\n",
              "\n",
              "    <div id=\"df-e140a0ba-f97d-4349-af8e-c2fff1ecd18a\">\n",
              "      <button class=\"colab-df-quickchart\" onclick=\"quickchart('df-e140a0ba-f97d-4349-af8e-c2fff1ecd18a')\"\n",
              "                title=\"Suggest charts\"\n",
              "                style=\"display:none;\">\n",
              "\n",
              "<svg xmlns=\"http://www.w3.org/2000/svg\" height=\"24px\"viewBox=\"0 0 24 24\"\n",
              "     width=\"24px\">\n",
              "    <g>\n",
              "        <path d=\"M19 3H5c-1.1 0-2 .9-2 2v14c0 1.1.9 2 2 2h14c1.1 0 2-.9 2-2V5c0-1.1-.9-2-2-2zM9 17H7v-7h2v7zm4 0h-2V7h2v10zm4 0h-2v-4h2v4z\"/>\n",
              "    </g>\n",
              "</svg>\n",
              "      </button>\n",
              "\n",
              "<style>\n",
              "  .colab-df-quickchart {\n",
              "      --bg-color: #E8F0FE;\n",
              "      --fill-color: #1967D2;\n",
              "      --hover-bg-color: #E2EBFA;\n",
              "      --hover-fill-color: #174EA6;\n",
              "      --disabled-fill-color: #AAA;\n",
              "      --disabled-bg-color: #DDD;\n",
              "  }\n",
              "\n",
              "  [theme=dark] .colab-df-quickchart {\n",
              "      --bg-color: #3B4455;\n",
              "      --fill-color: #D2E3FC;\n",
              "      --hover-bg-color: #434B5C;\n",
              "      --hover-fill-color: #FFFFFF;\n",
              "      --disabled-bg-color: #3B4455;\n",
              "      --disabled-fill-color: #666;\n",
              "  }\n",
              "\n",
              "  .colab-df-quickchart {\n",
              "    background-color: var(--bg-color);\n",
              "    border: none;\n",
              "    border-radius: 50%;\n",
              "    cursor: pointer;\n",
              "    display: none;\n",
              "    fill: var(--fill-color);\n",
              "    height: 32px;\n",
              "    padding: 0;\n",
              "    width: 32px;\n",
              "  }\n",
              "\n",
              "  .colab-df-quickchart:hover {\n",
              "    background-color: var(--hover-bg-color);\n",
              "    box-shadow: 0 1px 2px rgba(60, 64, 67, 0.3), 0 1px 3px 1px rgba(60, 64, 67, 0.15);\n",
              "    fill: var(--button-hover-fill-color);\n",
              "  }\n",
              "\n",
              "  .colab-df-quickchart-complete:disabled,\n",
              "  .colab-df-quickchart-complete:disabled:hover {\n",
              "    background-color: var(--disabled-bg-color);\n",
              "    fill: var(--disabled-fill-color);\n",
              "    box-shadow: none;\n",
              "  }\n",
              "\n",
              "  .colab-df-spinner {\n",
              "    border: 2px solid var(--fill-color);\n",
              "    border-color: transparent;\n",
              "    border-bottom-color: var(--fill-color);\n",
              "    animation:\n",
              "      spin 1s steps(1) infinite;\n",
              "  }\n",
              "\n",
              "  @keyframes spin {\n",
              "    0% {\n",
              "      border-color: transparent;\n",
              "      border-bottom-color: var(--fill-color);\n",
              "      border-left-color: var(--fill-color);\n",
              "    }\n",
              "    20% {\n",
              "      border-color: transparent;\n",
              "      border-left-color: var(--fill-color);\n",
              "      border-top-color: var(--fill-color);\n",
              "    }\n",
              "    30% {\n",
              "      border-color: transparent;\n",
              "      border-left-color: var(--fill-color);\n",
              "      border-top-color: var(--fill-color);\n",
              "      border-right-color: var(--fill-color);\n",
              "    }\n",
              "    40% {\n",
              "      border-color: transparent;\n",
              "      border-right-color: var(--fill-color);\n",
              "      border-top-color: var(--fill-color);\n",
              "    }\n",
              "    60% {\n",
              "      border-color: transparent;\n",
              "      border-right-color: var(--fill-color);\n",
              "    }\n",
              "    80% {\n",
              "      border-color: transparent;\n",
              "      border-right-color: var(--fill-color);\n",
              "      border-bottom-color: var(--fill-color);\n",
              "    }\n",
              "    90% {\n",
              "      border-color: transparent;\n",
              "      border-bottom-color: var(--fill-color);\n",
              "    }\n",
              "  }\n",
              "</style>\n",
              "\n",
              "      <script>\n",
              "        async function quickchart(key) {\n",
              "          const quickchartButtonEl =\n",
              "            document.querySelector('#' + key + ' button');\n",
              "          quickchartButtonEl.disabled = true;  // To prevent multiple clicks.\n",
              "          quickchartButtonEl.classList.add('colab-df-spinner');\n",
              "          try {\n",
              "            const charts = await google.colab.kernel.invokeFunction(\n",
              "                'suggestCharts', [key], {});\n",
              "          } catch (error) {\n",
              "            console.error('Error during call to suggestCharts:', error);\n",
              "          }\n",
              "          quickchartButtonEl.classList.remove('colab-df-spinner');\n",
              "          quickchartButtonEl.classList.add('colab-df-quickchart-complete');\n",
              "        }\n",
              "        (() => {\n",
              "          let quickchartButtonEl =\n",
              "            document.querySelector('#df-e140a0ba-f97d-4349-af8e-c2fff1ecd18a button');\n",
              "          quickchartButtonEl.style.display =\n",
              "            google.colab.kernel.accessAllowed ? 'block' : 'none';\n",
              "        })();\n",
              "      </script>\n",
              "    </div>\n",
              "\n",
              "    </div>\n",
              "  </div>\n"
            ],
            "application/vnd.google.colaboratory.intrinsic+json": {
              "type": "dataframe",
              "summary": "{\n  \"name\": \"display(df\",\n  \"rows\": 5,\n  \"fields\": [\n    {\n      \"column\": \"N\\u00famero de votos \",\n      \"properties\": {\n        \"dtype\": \"number\",\n        \"std\": 911,\n        \"min\": 2626,\n        \"max\": 4899,\n        \"num_unique_values\": 5,\n        \"samples\": [\n          3645,\n          2626,\n          3422\n        ],\n        \"semantic_type\": \"\",\n        \"description\": \"\"\n      }\n    }\n  ]\n}"
            }
          },
          "metadata": {}
        }
      ]
    },
    {
      "cell_type": "markdown",
      "metadata": {
        "id": "369f767d"
      },
      "source": [
        "## Preparar os dados\n",
        "\n",
        "### Subtask:\n",
        "Extrair a coluna com os números de votos que serão usados para o teste.\n"
      ]
    },
    {
      "cell_type": "markdown",
      "metadata": {
        "id": "b4a06947"
      },
      "source": [
        "**Reasoning**:\n",
        "Extract the 'Número de votos' column and convert it to a numeric format to prepare for the Kolmogorov-Smirnov test.\n",
        "\n"
      ]
    },
    {
      "cell_type": "code",
      "metadata": {
        "colab": {
          "base_uri": "https://localhost:8080/",
          "height": 241
        },
        "id": "9876026e",
        "outputId": "fba8b17d-6413-40ab-c8ac-3a61b079071e"
      },
      "source": [
        "dados_votos = pd.to_numeric(df['Número de votos '])\n",
        "display(dados_votos.head())"
      ],
      "execution_count": null,
      "outputs": [
        {
          "output_type": "display_data",
          "data": {
            "text/plain": [
              "0    4899\n",
              "1    3645\n",
              "2    3422\n",
              "3    2736\n",
              "4    2626\n",
              "Name: Número de votos , dtype: int64"
            ],
            "text/html": [
              "<div>\n",
              "<style scoped>\n",
              "    .dataframe tbody tr th:only-of-type {\n",
              "        vertical-align: middle;\n",
              "    }\n",
              "\n",
              "    .dataframe tbody tr th {\n",
              "        vertical-align: top;\n",
              "    }\n",
              "\n",
              "    .dataframe thead th {\n",
              "        text-align: right;\n",
              "    }\n",
              "</style>\n",
              "<table border=\"1\" class=\"dataframe\">\n",
              "  <thead>\n",
              "    <tr style=\"text-align: right;\">\n",
              "      <th></th>\n",
              "      <th>Número de votos</th>\n",
              "    </tr>\n",
              "  </thead>\n",
              "  <tbody>\n",
              "    <tr>\n",
              "      <th>0</th>\n",
              "      <td>4899</td>\n",
              "    </tr>\n",
              "    <tr>\n",
              "      <th>1</th>\n",
              "      <td>3645</td>\n",
              "    </tr>\n",
              "    <tr>\n",
              "      <th>2</th>\n",
              "      <td>3422</td>\n",
              "    </tr>\n",
              "    <tr>\n",
              "      <th>3</th>\n",
              "      <td>2736</td>\n",
              "    </tr>\n",
              "    <tr>\n",
              "      <th>4</th>\n",
              "      <td>2626</td>\n",
              "    </tr>\n",
              "  </tbody>\n",
              "</table>\n",
              "</div><br><label><b>dtype:</b> int64</label>"
            ]
          },
          "metadata": {}
        }
      ]
    },
    {
      "cell_type": "markdown",
      "metadata": {
        "id": "038d318c"
      },
      "source": [
        "## Realizar o teste de kolmogorov-smirnov\n",
        "\n",
        "### Subtask:\n",
        "Aplicar a função `kstest` da biblioteca `scipy.stats` para realizar o teste. Será necessário escolher uma distribuição teórica para comparar com os dados (por exemplo, normal, uniforme, etc.).\n"
      ]
    },
    {
      "cell_type": "markdown",
      "metadata": {
        "id": "5b005304"
      },
      "source": [
        "**Reasoning**:\n",
        "Apply the kstest function to the data using the normal distribution as the theoretical distribution.\n",
        "\n"
      ]
    },
    {
      "cell_type": "code",
      "metadata": {
        "colab": {
          "base_uri": "https://localhost:8080/"
        },
        "id": "661e81b8",
        "outputId": "0232609a-3e1b-4aa5-a6d3-5741cb631680"
      },
      "source": [
        "from scipy.stats import kstest\n",
        "\n",
        "ks_statistic, p_value = kstest(dados_votos, 'norm')\n",
        "print(f\"KS Statistic: {ks_statistic}\")\n",
        "print(f\"P-value: {p_value}\")"
      ],
      "execution_count": null,
      "outputs": [
        {
          "output_type": "stream",
          "name": "stdout",
          "text": [
            "KS Statistic: 0.9210030431448405\n",
            "P-value: 0.0\n"
          ]
        }
      ]
    },
    {
      "cell_type": "markdown",
      "metadata": {
        "id": "4ef7b0fd"
      },
      "source": [
        "## Interpretar os resultados\n",
        "\n",
        "### Subtask:\n",
        "Interpretar o valor p retornado pelo teste para determinar se a distribuição dos votos é significativamente diferente da distribuição teórica escolhida.\n"
      ]
    },
    {
      "cell_type": "markdown",
      "metadata": {
        "id": "f5b5c045"
      },
      "source": [
        "**Reasoning**:\n",
        "Based on the previous step, the p-value is 0.0. This value needs to be compared with a significance level (alpha), typically 0.05, to interpret the result of the Kolmogorov-Smirnov test. A p-value less than alpha indicates that we reject the null hypothesis.\n",
        "\n"
      ]
    },
    {
      "cell_type": "code",
      "metadata": {
        "colab": {
          "base_uri": "https://localhost:8080/"
        },
        "id": "eb775f28",
        "outputId": "08d59aee-83ec-4168-b482-15652b2675bc"
      },
      "source": [
        "alpha = 0.05\n",
        "\n",
        "if p_value < alpha:\n",
        "    conclusion = \"O valor p ({}) é menor que o nível de significância ({}). Portanto, rejeitamos a hipótese nula. Há evidências estatísticas suficientes para concluir que a distribuição dos votos é significativamente diferente da distribuição teórica escolhida (normal).\".format(p_value, alpha)\n",
        "else:\n",
        "    conclusion = \"O valor p ({}) é maior ou igual ao nível de significância ({}). Portanto, não rejeitamos a hipótese nula. Não há evidências estatísticas suficientes para concluir que a distribuição dos votos é significativamente diferente da distribuição teórica escolhida (normal).\".format(p_value, alpha)\n",
        "\n",
        "print(conclusion)"
      ],
      "execution_count": null,
      "outputs": [
        {
          "output_type": "stream",
          "name": "stdout",
          "text": [
            "O valor p (0.0) é menor que o nível de significância (0.05). Portanto, rejeitamos a hipótese nula. Há evidências estatísticas suficientes para concluir que a distribuição dos votos é significativamente diferente da distribuição teórica escolhida (normal).\n"
          ]
        }
      ]
    },
    {
      "cell_type": "markdown",
      "metadata": {
        "id": "88ceaf15"
      },
      "source": [
        "## Visualizar os dados e a distribuição teórica (opcional)\n",
        "\n",
        "### Subtask:\n",
        "Criar um histograma dos dados de voto e sobrepor a função de densidade de probabilidade (PDF) da distribuição teórica escolhida para visualização.\n"
      ]
    },
    {
      "cell_type": "markdown",
      "metadata": {
        "id": "9b4a5a16"
      },
      "source": [
        "**Reasoning**:\n",
        "Create a histogram of the vote data and overlay the PDF of the theoretical normal distribution for visualization.\n",
        "\n"
      ]
    },
    {
      "cell_type": "code",
      "metadata": {
        "colab": {
          "base_uri": "https://localhost:8080/",
          "height": 564
        },
        "id": "2b99e42a",
        "outputId": "10379b01-2edb-4dc9-9788-60d5c246a3f8"
      },
      "source": [
        "import matplotlib.pyplot as plt\n",
        "import numpy as np\n",
        "from scipy.stats import norm\n",
        "\n",
        "plt.figure(figsize=(10, 6))\n",
        "plt.hist(dados_votos, bins=50, density=True, alpha=0.6, color='g', label='Histograma dos Votos')\n",
        "\n",
        "xmin, xmax = plt.xlim()\n",
        "x = np.linspace(xmin, xmax, 100)\n",
        "mu, std = dados_votos.mean(), dados_votos.std()\n",
        "p = norm.pdf(x, mu, std)\n",
        "plt.plot(x, p, 'k', linewidth=2, label='PDF da Distribuição Normal')\n",
        "\n",
        "plt.title('Histograma dos Votos com PDF da Distribuição Normal')\n",
        "plt.xlabel('Número de Votos')\n",
        "plt.ylabel('Densidade')\n",
        "plt.legend()\n",
        "plt.show()"
      ],
      "execution_count": null,
      "outputs": [
        {
          "output_type": "display_data",
          "data": {
            "text/plain": [
              "<Figure size 1000x600 with 1 Axes>"
            ],
            "image/png": "[encoded data removed]"
          },
          "metadata": {}
        }
      ]
    },
    {
      "cell_type": "markdown",
      "metadata": {
        "id": "9d7be9ce"
      },
      "source": [
        "## Summary:\n",
        "\n",
        "### Q&A\n",
        "**P: A distribuição de votos segue uma distribuição normal?**\n",
        "\n",
        "R: Não, o teste de Kolmogorov-Smirnov resultou em um valor-p de 0.0, que é menor que o nível de significância de 0.05. Isso indica que a distribuição dos votos é significativamente diferente de uma distribuição normal.\n",
        "\n",
        "### Data Analysis Key Findings\n",
        "* O teste de Kolmogorov-Smirnov foi aplicado aos dados de votos para comparar sua distribuição com uma distribuição normal teórica.\n",
        "* O teste produziu uma estatística KS de aproximadamente 0.921 e um valor-p de 0.0.\n",
        "* Como o valor-p (0.0) é menor que o nível de significância (0.05), a hipótese nula de que os dados seguem uma distribuição normal foi rejeitada.\n",
        "* A visualização do histograma dos dados de votos em comparação com a curva de densidade de probabilidade da distribuição normal confirma visualmente essa diferença significativa.\n",
        "\n",
        "### Insights or Next Steps\n",
        "* A distribuição dos votos não é normal, o que pode ter implicações para análises estatísticas que assumem normalidade.\n",
        "* Seria interessante investigar outras distribuições teóricas (por exemplo, log-normal, Poisson) para ver se elas se ajustam melhor aos dados de votos.\n"
      ]
    },
    {
      "cell_type": "markdown",
      "metadata": {
        "id": "6a8921fb"
      },
      "source": [
        "## Visualizar ECDF e CDF Teórica\n",
        "\n",
        "### Subtask:\n",
        "Criar um gráfico que compara a Função de Distribuição Cumulativa Empírica (ECDF) dos dados de voto com a Função de Distribuição Cumulativa (CDF) da distribuição teórica escolhida (normal)."
      ]
    },
    {
      "cell_type": "markdown",
      "metadata": {
        "id": "5c7d9027"
      },
      "source": [
        "**Reasoning**:\n",
        "To visualize the ECDF and theoretical CDF, we will use `statsmodels` for the ECDF and `scipy.stats.norm` for the normal CDF. We will plot both on the same axes for comparison."
      ]
    },
    {
      "cell_type": "code",
      "metadata": {
        "colab": {
          "base_uri": "https://localhost:8080/",
          "height": 564
        },
        "id": "c2db9189",
        "outputId": "5f6ba65d-66cb-4024-e01d-08ca04e2f331"
      },
      "source": [
        "import matplotlib.pyplot as plt\n",
        "import numpy as np\n",
        "from scipy.stats import norm\n",
        "from statsmodels.distributions.empirical_distribution import ECDF\n",
        "\n",
        "# Create ECDF of the data\n",
        "ecdf = ECDF(dados_votos)\n",
        "\n",
        "# Create CDF of the theoretical normal distribution\n",
        "# Use the mean and standard deviation calculated from the data\n",
        "mu, std = dados_votos.mean(), dados_votos.std()\n",
        "x_theoretical = np.linspace(min(dados_votos), max(dados_votos), 100)\n",
        "cdf_theoretical = norm.cdf(x_theoretical, mu, std)\n",
        "\n",
        "# Plot ECDF and theoretical CDF\n",
        "plt.figure(figsize=(10, 6))\n",
        "plt.plot(ecdf.x, ecdf.y, label='ECDF of votes')\n",
        "plt.plot(x_theoretical, cdf_theoretical, 'r-', label='CDF of the Theoretical Normal Distribution')\n",
        "\n",
        "plt.title('Comparison of the ECDF of Votes with the CDF of the Theoretical Normal Distribution')\n",
        "plt.xlabel('Númber of votes')\n",
        "plt.ylabel('Cumulative probability')\n",
        "plt.legend()\n",
        "plt.grid(True)\n",
        "plt.show()"
      ],
      "execution_count": null,
      "outputs": [
        {
          "output_type": "display_data",
          "data": {
            "text/plain": [
              "<Figure size 1000x600 with 1 Axes>"
            ],
            "image/png": "[encoded data removed]"
          },
          "metadata": {}
        }
      ]
    },
    {
      "cell_type": "markdown",
      "source": [
        "###\n",
        "\n",
        "Criando um teste de Kolmogorov-Smirnov a partir dos números de votos\n",
        "\n",
        "Carregar os dados: Carregar os dados da planilha Excel em um DataFrame pandas.\n",
        "Preparar os dados: Extrair a coluna com os números de votos que serão usados para o teste.\n",
        "Realizar o teste de kolmogorov-smirnov: Aplicar a função kstest da biblioteca scipy.stats para realizar o teste. Será necessário escolher uma distribuição teórica para comparar com os dados (por exemplo, normal, uniforme, etc.).\n",
        "Interpretar os resultados: Analisar o valor p retornado pelo teste para determinar se a distribuição dos votos é significativamente diferente da distribuição teórica escolhida.\n",
        "Visualizar os dados e a distribuição teórica (opcional): Criar um histograma dos dados de voto e sobrepor a função de densidade de probabilidade (PDF) da distribuição teórica escolhida para visualização.\n",
        "Finalizar a tarefa: Apresentar os resultados do teste e a interpretação de forma clara.\n",
        "Gerando…\n",
        "Preparing\n",
        "Carregar os dados\n",
        "Preparar os dados\n",
        "Realizar o teste de kolmogorov-smirnov\n",
        "Interpretar os resultados\n",
        "Visualizar os dados e a distribuição teórica (opcional)\n",
        "Finalizar a tarefa\n",
        "\n",
        "Criando um gráfico com a a Função de Distribuição Comparativa Empírica (ECDF) da amostra com a Função de distribuição Cumulativa (CDF) da distribuição teórica para números de votos\n",
        ".\n",
        "\n",
        "O gráfico comparando a ECDF dos votos com a CDF da distribuição normal teórica foi gerado com sucesso. Agora, para finalizar a tarefa, podemos apresentar um resumo dos resultados e as conclusões do teste de Kolmogorov-Smirnov.\n",
        "\n",
        "Interpretando as estatísticas referentes ao teste de hipóteses nula e a alternativa descrevendo porque a nula foi rejeitada.\n",
        "\n",
        "\n",
        "No teste de Kolmogorov-Smirnov, as hipóteses são as seguintes:\n",
        "\n",
        "Hipótese Nula (H₀): A distribuição dos dados de voto é a mesma que a distribuição teórica escolhida (neste caso, a distribuição normal).\n",
        "Hipótese Alternativa (H₁): A distribuição dos dados de voto é diferente da distribuição teórica escolhida (a distribuição normal).\n",
        "O teste calcula uma estatística KS que mede a maior diferença absoluta entre a Função de Distribuição Cumulativa Empírica (ECDF) dos seus dados e a Função de Distribuição Cumulativa (CDF) da distribuição teórica.\n",
        "\n",
        "Junto com a estatística KS, o teste retorna um valor-p. O valor-p é a probabilidade de observar uma estatística KS tão extrema (ou mais extrema) quanto a calculada, assumindo que a hipótese nula seja verdadeira.\n",
        "\n",
        "No seu caso, o teste resultou em um valor-p de 0.0.\n",
        "\n",
        "Para decidir se rejeitamos a hipótese nula, comparamos o valor-p com um nível de significância (α), que geralmente é definido como 0.05.\n",
        "\n",
        "Se o valor-p < α: Rejeitamos a hipótese nula. Isso significa que há evidências estatísticas suficientes para concluir que a distribuição dos dados é significativamente diferente da distribuição teórica.\n",
        "Se o valor-p ≥ α: Não rejeitamos a hipótese nula. Isso significa que não há evidências estatísticas suficientes para concluir que a distribuição dos dados é significativamente diferente da distribuição teórica.\n",
        "Como o seu valor-p (0.0) é menor que o nível de significância (0.05), você rejeitou a hipótese nula.\n",
        "\n",
        "Em termos práticos, isso significa que a diferença observada entre a distribuição dos seus dados de voto e a distribuição normal teórica não é provável de ter ocorrido apenas por acaso, se os dados realmente seguissem uma distribuição normal. Portanto, concluímos que a distribuição dos seus dados de voto é significativamente diferente de uma distribuição normal"
      ],
      "metadata": {
        "id": "JHylJ4EobB59"
      }
    }
  ]
}