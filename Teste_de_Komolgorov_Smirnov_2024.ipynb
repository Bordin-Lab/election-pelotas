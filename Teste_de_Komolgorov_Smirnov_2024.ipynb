{
  "nbformat": 4,
  "nbformat_minor": 0,
  "metadata": {
    "colab": {
      "provenance": [],
      "include_colab_link": true
    },
    "kernelspec": {
      "name": "python3",
      "display_name": "Python 3"
    },
    "language_info": {
      "name": "python"
    }
  },
  "cells": [
    {
      "cell_type": "markdown",
      "metadata": {
        "id": "view-in-github",
        "colab_type": "text"
      },
      "source": [
        "<a href=\"https://colab.research.google.com/github/Bordin-Lab/election-pelotas/blob/main/Teste_de_Komolgorov_Smirnov_2024.ipynb\" target=\"_parent\"><img src=\"https://colab.research.google.com/assets/colab-badge.svg\" alt=\"Open In Colab\"/></a>"
      ]
    },
    {
      "cell_type": "code",
      "execution_count": null,
      "metadata": {
        "id": "Vo9mVDg0j6u0"
      },
      "outputs": [],
      "source": []
    },
    {
      "cell_type": "markdown",
      "metadata": {
        "id": "22641da6"
      },
      "source": [
        "# Task\n",
        "Perform a Kolmogorov-Smirnov test on the vote count data in the file \"/content/Eleição 2024 - Teste de Kolmogorov - Smirnov.xlsx\". Explain the results of the test."
      ]
    },
    {
      "cell_type": "markdown",
      "metadata": {
        "id": "c0c6ae13"
      },
      "source": [
        "## Load the data\n",
        "\n",
        "### Subtask:\n",
        "Load the data from the provided Excel file into a pandas DataFrame.\n"
      ]
    },
    {
      "cell_type": "markdown",
      "metadata": {
        "id": "20552231"
      },
      "source": [
        "**Reasoning**:\n",
        "The first step is to load the data from the Excel file into a pandas DataFrame as instructed.\n",
        "\n"
      ]
    },
    {
      "cell_type": "code",
      "metadata": {
        "colab": {
          "base_uri": "https://localhost:8080/",
          "height": 206
        },
        "id": "64b6e5cf",
        "outputId": "7e828872-a888-4b8f-e507-c191496c08b6"
      },
      "source": [
        "import pandas as pd\n",
        "\n",
        "df = pd.read_excel(\"/content/Eleição 2024 - Teste de Kolmogorov - Smirnov.xlsx\")\n",
        "display(df.head())"
      ],
      "execution_count": null,
      "outputs": [
        {
          "output_type": "display_data",
          "data": {
            "text/plain": [
              "   Número de votos \n",
              "0              5885\n",
              "1              5540\n",
              "2              4421\n",
              "3              3935\n",
              "4              3597"
            ],
            "text/html": [
              "\n",
              "  <div id=\"df-3e7a1ad8-c033-429a-af8d-941b4a492a9a\" class=\"colab-df-container\">\n",
              "    <div>\n",
              "<style scoped>\n",
              "    .dataframe tbody tr th:only-of-type {\n",
              "        vertical-align: middle;\n",
              "    }\n",
              "\n",
              "    .dataframe tbody tr th {\n",
              "        vertical-align: top;\n",
              "    }\n",
              "\n",
              "    .dataframe thead th {\n",
              "        text-align: right;\n",
              "    }\n",
              "</style>\n",
              "<table border=\"1\" class=\"dataframe\">\n",
              "  <thead>\n",
              "    <tr style=\"text-align: right;\">\n",
              "      <th></th>\n",
              "      <th>Número de votos</th>\n",
              "    </tr>\n",
              "  </thead>\n",
              "  <tbody>\n",
              "    <tr>\n",
              "      <th>0</th>\n",
              "      <td>5885</td>\n",
              "    </tr>\n",
              "    <tr>\n",
              "      <th>1</th>\n",
              "      <td>5540</td>\n",
              "    </tr>\n",
              "    <tr>\n",
              "      <th>2</th>\n",
              "      <td>4421</td>\n",
              "    </tr>\n",
              "    <tr>\n",
              "      <th>3</th>\n",
              "      <td>3935</td>\n",
              "    </tr>\n",
              "    <tr>\n",
              "      <th>4</th>\n",
              "      <td>3597</td>\n",
              "    </tr>\n",
              "  </tbody>\n",
              "</table>\n",
              "</div>\n",
              "    <div class=\"colab-df-buttons\">\n",
              "\n",
              "  <div class=\"colab-df-container\">\n",
              "    <button class=\"colab-df-convert\" onclick=\"convertToInteractive('df-3e7a1ad8-c033-429a-af8d-941b4a492a9a')\"\n",
              "            title=\"Convert this dataframe to an interactive table.\"\n",
              "            style=\"display:none;\">\n",
              "\n",
              "  <svg xmlns=\"http://www.w3.org/2000/svg\" height=\"24px\" viewBox=\"0 -960 960 960\">\n",
              "    <path d=\"M120-120v-720h720v720H120Zm60-500h600v-160H180v160Zm220 220h160v-160H400v160Zm0 220h160v-160H400v160ZM180-400h160v-160H180v160Zm440 0h160v-160H620v160ZM180-180h160v-160H180v160Zm440 0h160v-160H620v160Z\"/>\n",
              "  </svg>\n",
              "    </button>\n",
              "\n",
              "  <style>\n",
              "    .colab-df-container {\n",
              "      display:flex;\n",
              "      gap: 12px;\n",
              "    }\n",
              "\n",
              "    .colab-df-convert {\n",
              "      background-color: #E8F0FE;\n",
              "      border: none;\n",
              "      border-radius: 50%;\n",
              "      cursor: pointer;\n",
              "      display: none;\n",
              "      fill: #1967D2;\n",
              "      height: 32px;\n",
              "      padding: 0 0 0 0;\n",
              "      width: 32px;\n",
              "    }\n",
              "\n",
              "    .colab-df-convert:hover {\n",
              "      background-color: #E2EBFA;\n",
              "      box-shadow: 0px 1px 2px rgba(60, 64, 67, 0.3), 0px 1px 3px 1px rgba(60, 64, 67, 0.15);\n",
              "      fill: #174EA6;\n",
              "    }\n",
              "\n",
              "    .colab-df-buttons div {\n",
              "      margin-bottom: 4px;\n",
              "    }\n",
              "\n",
              "    [theme=dark] .colab-df-convert {\n",
              "      background-color: #3B4455;\n",
              "      fill: #D2E3FC;\n",
              "    }\n",
              "\n",
              "    [theme=dark] .colab-df-convert:hover {\n",
              "      background-color: #434B5C;\n",
              "      box-shadow: 0px 1px 3px 1px rgba(0, 0, 0, 0.15);\n",
              "      filter: drop-shadow(0px 1px 2px rgba(0, 0, 0, 0.3));\n",
              "      fill: #FFFFFF;\n",
              "    }\n",
              "  </style>\n",
              "\n",
              "    <script>\n",
              "      const buttonEl =\n",
              "        document.querySelector('#df-3e7a1ad8-c033-429a-af8d-941b4a492a9a button.colab-df-convert');\n",
              "      buttonEl.style.display =\n",
              "        google.colab.kernel.accessAllowed ? 'block' : 'none';\n",
              "\n",
              "      async function convertToInteractive(key) {\n",
              "        const element = document.querySelector('#df-3e7a1ad8-c033-429a-af8d-941b4a492a9a');\n",
              "        const dataTable =\n",
              "          await google.colab.kernel.invokeFunction('convertToInteractive',\n",
              "                                                    [key], {});\n",
              "        if (!dataTable) return;\n",
              "\n",
              "        const docLinkHtml = 'Like what you see? Visit the ' +\n",
              "          '<a target=\"_blank\" href=https://colab.research.google.com/notebooks/data_table.ipynb>data table notebook</a>'\n",
              "          + ' to learn more about interactive tables.';\n",
              "        element.innerHTML = '';\n",
              "        dataTable['output_type'] = 'display_data';\n",
              "        await google.colab.output.renderOutput(dataTable, element);\n",
              "        const docLink = document.createElement('div');\n",
              "        docLink.innerHTML = docLinkHtml;\n",
              "        element.appendChild(docLink);\n",
              "      }\n",
              "    </script>\n",
              "  </div>\n",
              "\n",
              "\n",
              "    <div id=\"df-55373652-51e4-43b7-afe5-e2d06d9241a5\">\n",
              "      <button class=\"colab-df-quickchart\" onclick=\"quickchart('df-55373652-51e4-43b7-afe5-e2d06d9241a5')\"\n",
              "                title=\"Suggest charts\"\n",
              "                style=\"display:none;\">\n",
              "\n",
              "<svg xmlns=\"http://www.w3.org/2000/svg\" height=\"24px\"viewBox=\"0 0 24 24\"\n",
              "     width=\"24px\">\n",
              "    <g>\n",
              "        <path d=\"M19 3H5c-1.1 0-2 .9-2 2v14c0 1.1.9 2 2 2h14c1.1 0 2-.9 2-2V5c0-1.1-.9-2-2-2zM9 17H7v-7h2v7zm4 0h-2V7h2v10zm4 0h-2v-4h2v4z\"/>\n",
              "    </g>\n",
              "</svg>\n",
              "      </button>\n",
              "\n",
              "<style>\n",
              "  .colab-df-quickchart {\n",
              "      --bg-color: #E8F0FE;\n",
              "      --fill-color: #1967D2;\n",
              "      --hover-bg-color: #E2EBFA;\n",
              "      --hover-fill-color: #174EA6;\n",
              "      --disabled-fill-color: #AAA;\n",
              "      --disabled-bg-color: #DDD;\n",
              "  }\n",
              "\n",
              "  [theme=dark] .colab-df-quickchart {\n",
              "      --bg-color: #3B4455;\n",
              "      --fill-color: #D2E3FC;\n",
              "      --hover-bg-color: #434B5C;\n",
              "      --hover-fill-color: #FFFFFF;\n",
              "      --disabled-bg-color: #3B4455;\n",
              "      --disabled-fill-color: #666;\n",
              "  }\n",
              "\n",
              "  .colab-df-quickchart {\n",
              "    background-color: var(--bg-color);\n",
              "    border: none;\n",
              "    border-radius: 50%;\n",
              "    cursor: pointer;\n",
              "    display: none;\n",
              "    fill: var(--fill-color);\n",
              "    height: 32px;\n",
              "    padding: 0;\n",
              "    width: 32px;\n",
              "  }\n",
              "\n",
              "  .colab-df-quickchart:hover {\n",
              "    background-color: var(--hover-bg-color);\n",
              "    box-shadow: 0 1px 2px rgba(60, 64, 67, 0.3), 0 1px 3px 1px rgba(60, 64, 67, 0.15);\n",
              "    fill: var(--button-hover-fill-color);\n",
              "  }\n",
              "\n",
              "  .colab-df-quickchart-complete:disabled,\n",
              "  .colab-df-quickchart-complete:disabled:hover {\n",
              "    background-color: var(--disabled-bg-color);\n",
              "    fill: var(--disabled-fill-color);\n",
              "    box-shadow: none;\n",
              "  }\n",
              "\n",
              "  .colab-df-spinner {\n",
              "    border: 2px solid var(--fill-color);\n",
              "    border-color: transparent;\n",
              "    border-bottom-color: var(--fill-color);\n",
              "    animation:\n",
              "      spin 1s steps(1) infinite;\n",
              "  }\n",
              "\n",
              "  @keyframes spin {\n",
              "    0% {\n",
              "      border-color: transparent;\n",
              "      border-bottom-color: var(--fill-color);\n",
              "      border-left-color: var(--fill-color);\n",
              "    }\n",
              "    20% {\n",
              "      border-color: transparent;\n",
              "      border-left-color: var(--fill-color);\n",
              "      border-top-color: var(--fill-color);\n",
              "    }\n",
              "    30% {\n",
              "      border-color: transparent;\n",
              "      border-left-color: var(--fill-color);\n",
              "      border-top-color: var(--fill-color);\n",
              "      border-right-color: var(--fill-color);\n",
              "    }\n",
              "    40% {\n",
              "      border-color: transparent;\n",
              "      border-right-color: var(--fill-color);\n",
              "      border-top-color: var(--fill-color);\n",
              "    }\n",
              "    60% {\n",
              "      border-color: transparent;\n",
              "      border-right-color: var(--fill-color);\n",
              "    }\n",
              "    80% {\n",
              "      border-color: transparent;\n",
              "      border-right-color: var(--fill-color);\n",
              "      border-bottom-color: var(--fill-color);\n",
              "    }\n",
              "    90% {\n",
              "      border-color: transparent;\n",
              "      border-bottom-color: var(--fill-color);\n",
              "    }\n",
              "  }\n",
              "</style>\n",
              "\n",
              "      <script>\n",
              "        async function quickchart(key) {\n",
              "          const quickchartButtonEl =\n",
              "            document.querySelector('#' + key + ' button');\n",
              "          quickchartButtonEl.disabled = true;  // To prevent multiple clicks.\n",
              "          quickchartButtonEl.classList.add('colab-df-spinner');\n",
              "          try {\n",
              "            const charts = await google.colab.kernel.invokeFunction(\n",
              "                'suggestCharts', [key], {});\n",
              "          } catch (error) {\n",
              "            console.error('Error during call to suggestCharts:', error);\n",
              "          }\n",
              "          quickchartButtonEl.classList.remove('colab-df-spinner');\n",
              "          quickchartButtonEl.classList.add('colab-df-quickchart-complete');\n",
              "        }\n",
              "        (() => {\n",
              "          let quickchartButtonEl =\n",
              "            document.querySelector('#df-55373652-51e4-43b7-afe5-e2d06d9241a5 button');\n",
              "          quickchartButtonEl.style.display =\n",
              "            google.colab.kernel.accessAllowed ? 'block' : 'none';\n",
              "        })();\n",
              "      </script>\n",
              "    </div>\n",
              "\n",
              "    </div>\n",
              "  </div>\n"
            ],
            "application/vnd.google.colaboratory.intrinsic+json": {
              "type": "dataframe",
              "summary": "{\n  \"name\": \"display(df\",\n  \"rows\": 5,\n  \"fields\": [\n    {\n      \"column\": \"N\\u00famero de votos \",\n      \"properties\": {\n        \"dtype\": \"number\",\n        \"std\": 998,\n        \"min\": 3597,\n        \"max\": 5885,\n        \"num_unique_values\": 5,\n        \"samples\": [\n          5540,\n          3597,\n          4421\n        ],\n        \"semantic_type\": \"\",\n        \"description\": \"\"\n      }\n    }\n  ]\n}"
            }
          },
          "metadata": {}
        }
      ]
    },
    {
      "cell_type": "markdown",
      "metadata": {
        "id": "eaa13dbd"
      },
      "source": [
        "## Extract vote count\n",
        "\n",
        "### Subtask:\n",
        "Identify the column containing the number of votes and extract it.\n"
      ]
    },
    {
      "cell_type": "markdown",
      "metadata": {
        "id": "9708fd4d"
      },
      "source": [
        "**Reasoning**:\n",
        "Identify and select the column containing the vote counts.\n",
        "\n"
      ]
    },
    {
      "cell_type": "code",
      "metadata": {
        "colab": {
          "base_uri": "https://localhost:8080/",
          "height": 241
        },
        "id": "847397d7",
        "outputId": "1c8400ed-1fc5-4b76-8573-71ca3af082a5"
      },
      "source": [
        "vote_counts = df['Número de votos ']\n",
        "display(vote_counts.head())"
      ],
      "execution_count": null,
      "outputs": [
        {
          "output_type": "display_data",
          "data": {
            "text/plain": [
              "0    5885\n",
              "1    5540\n",
              "2    4421\n",
              "3    3935\n",
              "4    3597\n",
              "Name: Número de votos , dtype: int64"
            ],
            "text/html": [
              "<div>\n",
              "<style scoped>\n",
              "    .dataframe tbody tr th:only-of-type {\n",
              "        vertical-align: middle;\n",
              "    }\n",
              "\n",
              "    .dataframe tbody tr th {\n",
              "        vertical-align: top;\n",
              "    }\n",
              "\n",
              "    .dataframe thead th {\n",
              "        text-align: right;\n",
              "    }\n",
              "</style>\n",
              "<table border=\"1\" class=\"dataframe\">\n",
              "  <thead>\n",
              "    <tr style=\"text-align: right;\">\n",
              "      <th></th>\n",
              "      <th>Número de votos</th>\n",
              "    </tr>\n",
              "  </thead>\n",
              "  <tbody>\n",
              "    <tr>\n",
              "      <th>0</th>\n",
              "      <td>5885</td>\n",
              "    </tr>\n",
              "    <tr>\n",
              "      <th>1</th>\n",
              "      <td>5540</td>\n",
              "    </tr>\n",
              "    <tr>\n",
              "      <th>2</th>\n",
              "      <td>4421</td>\n",
              "    </tr>\n",
              "    <tr>\n",
              "      <th>3</th>\n",
              "      <td>3935</td>\n",
              "    </tr>\n",
              "    <tr>\n",
              "      <th>4</th>\n",
              "      <td>3597</td>\n",
              "    </tr>\n",
              "  </tbody>\n",
              "</table>\n",
              "</div><br><label><b>dtype:</b> int64</label>"
            ]
          },
          "metadata": {}
        }
      ]
    },
    {
      "cell_type": "markdown",
      "metadata": {
        "id": "807ffb56"
      },
      "source": [
        "## Perform the kolmogorov-smirnov test\n",
        "\n",
        "### Subtask:\n",
        "Apply the Kolmogorov-Smirnov test to the extracted vote count data.\n"
      ]
    },
    {
      "cell_type": "markdown",
      "metadata": {
        "id": "d2878235"
      },
      "source": [
        "**Reasoning**:\n",
        "Apply the Kolmogorov-Smirnov test to the extracted vote count data against a normal distribution.\n",
        "\n"
      ]
    },
    {
      "cell_type": "code",
      "metadata": {
        "colab": {
          "base_uri": "https://localhost:8080/"
        },
        "id": "f1bea42b",
        "outputId": "9f41ccc6-9931-4ac3-a427-0deef8f57ef5"
      },
      "source": [
        "from scipy.stats import kstest\n",
        "\n",
        "ks_statistic, p_value = kstest(vote_counts, 'norm')\n",
        "\n",
        "print(f\"KS Statistic: {ks_statistic}\")\n",
        "print(f\"P-value: {p_value}\")"
      ],
      "execution_count": null,
      "outputs": [
        {
          "output_type": "stream",
          "name": "stdout",
          "text": [
            "KS Statistic: 0.9946501019683699\n",
            "P-value: 0.0\n"
          ]
        }
      ]
    },
    {
      "cell_type": "markdown",
      "metadata": {
        "id": "19ef6d8b"
      },
      "source": [
        "## Interpret the results\n",
        "\n",
        "### Subtask:\n",
        "Explain the output of the Kolmogorov-Smirnov test.\n"
      ]
    },
    {
      "cell_type": "markdown",
      "metadata": {
        "id": "49c73da5"
      },
      "source": [
        "**Reasoning**:\n",
        "Explain the output of the Kolmogorov-Smirnov test based on the KS statistic and p-value obtained in the previous step.\n",
        "\n"
      ]
    },
    {
      "cell_type": "code",
      "metadata": {
        "colab": {
          "base_uri": "https://localhost:8080/"
        },
        "id": "a3a29d48",
        "outputId": "91f27038-49f3-4cc2-e193-beb38afb459c"
      },
      "source": [
        "print(\"Explanation of Kolmogorov-Smirnov Test Results:\")\n",
        "print(f\"KS Statistic: {ks_statistic}\")\n",
        "print(f\"P-value: {p_value}\")\n",
        "print(\"\\nInterpretation:\")\n",
        "print(\"The KS statistic quantifies the maximum distance between the empirical cumulative distribution function of the sample data and the theoretical cumulative distribution function of the reference distribution (in this case, the normal distribution). A larger KS statistic indicates a greater difference between the observed data distribution and the theoretical distribution.\")\n",
        "print(\"\\nThe p-value represents the probability of observing a test statistic as extreme as, or more extreme than, the observed one, assuming the null hypothesis is true. In the context of the KS test, the null hypothesis is that the data comes from the specified theoretical distribution (normal distribution). A small p-value (typically less than the significance level alpha, e.g., 0.05) suggests that the observed data is unlikely to have come from the theoretical distribution.\")\n",
        "print(f\"\\nBased on the results:\")\n",
        "print(f\"- The obtained KS statistic is {ks_statistic:.4f}.\")\n",
        "print(f\"- The obtained p-value is {p_value:.4f}.\")\n",
        "alpha = 0.05\n",
        "print(f\"\\nUsing a standard significance level of alpha = {alpha}:\")\n",
        "if p_value < alpha:\n",
        "    print(\"Since the p-value (0.0000) is less than alpha (0.05), we reject the null hypothesis.\")\n",
        "    print(\"Conclusion: The data does not follow a normal distribution.\")\n",
        "else:\n",
        "    print(\"Since the p-value (0.0000) is greater than or equal to alpha (0.05), we fail to reject the null hypothesis.\")\n",
        "    print(\"Conclusion: There is not enough evidence to conclude that the data does not follow a normal distribution.\")"
      ],
      "execution_count": null,
      "outputs": [
        {
          "output_type": "stream",
          "name": "stdout",
          "text": [
            "Explanation of Kolmogorov-Smirnov Test Results:\n",
            "KS Statistic: 0.9946501019683699\n",
            "P-value: 0.0\n",
            "\n",
            "Interpretation:\n",
            "The KS statistic quantifies the maximum distance between the empirical cumulative distribution function of the sample data and the theoretical cumulative distribution function of the reference distribution (in this case, the normal distribution). A larger KS statistic indicates a greater difference between the observed data distribution and the theoretical distribution.\n",
            "\n",
            "The p-value represents the probability of observing a test statistic as extreme as, or more extreme than, the observed one, assuming the null hypothesis is true. In the context of the KS test, the null hypothesis is that the data comes from the specified theoretical distribution (normal distribution). A small p-value (typically less than the significance level alpha, e.g., 0.05) suggests that the observed data is unlikely to have come from the theoretical distribution.\n",
            "\n",
            "Based on the results:\n",
            "- The obtained KS statistic is 0.9947.\n",
            "- The obtained p-value is 0.0000.\n",
            "\n",
            "Using a standard significance level of alpha = 0.05:\n",
            "Since the p-value (0.0000) is less than alpha (0.05), we reject the null hypothesis.\n",
            "Conclusion: The data does not follow a normal distribution.\n"
          ]
        }
      ]
    },
    {
      "cell_type": "markdown",
      "metadata": {
        "id": "b98bf70b"
      },
      "source": [
        "## Summary:\n",
        "\n",
        "### Data Analysis Key Findings\n",
        "\n",
        "*   The Kolmogorov-Smirnov test was performed on the vote count data against a normal distribution.\n",
        "*   The calculated KS Statistic is 0.9947.\n",
        "*   The calculated p-value is 0.0000.\n",
        "*   Using a significance level ($\\alpha$) of 0.05, the p-value (0.0000) is less than $\\alpha$.\n",
        "\n",
        "### Insights or Next Steps\n",
        "\n",
        "*   Based on the test results, the vote count data does not follow a normal distribution. Further analysis should consider non-parametric methods or investigate the underlying distribution of the vote counts.\n"
      ]
    },
    {
      "cell_type": "markdown",
      "metadata": {
        "id": "d8507f9f"
      },
      "source": [
        "## Visualize ECDF and CDF\n",
        "\n",
        "### Subtask:\n",
        "Create a plot comparing the empirical cumulative distribution function (ECDF) of the sample data and the cumulative distribution function (CDF) of the theoretical normal distribution."
      ]
    },
    {
      "cell_type": "markdown",
      "metadata": {
        "id": "0b4539bd"
      },
      "source": [
        "**Reasoning**:\n",
        "Generate a plot that displays both the ECDF of the vote count data and the CDF of a normal distribution with the same mean and standard deviation as the sample data. This visualization will help to visually assess how well the sample data fits a normal distribution, complementing the Kolmogorov-Smirnov test results."
      ]
    },
    {
      "cell_type": "code",
      "metadata": {
        "colab": {
          "base_uri": "https://localhost:8080/",
          "height": 564
        },
        "id": "20115630",
        "outputId": "9b3c5137-d661-438e-86b0-1548b3a8bf25"
      },
      "source": [
        "import numpy as np\n",
        "import matplotlib.pyplot as plt\n",
        "from scipy.stats import norm\n",
        "\n",
        "# Calculate ECDF\n",
        "sorted_vote_counts = np.sort(vote_counts)\n",
        "ecdf = np.arange(1, len(sorted_vote_counts) + 1) / len(sorted_vote_counts)\n",
        "\n",
        "# Calculate parameters for the theoretical normal distribution\n",
        "mean = np.mean(vote_counts)\n",
        "std_dev = np.std(vote_counts)\n",
        "\n",
        "# Calculate CDF for the theoretical normal distribution\n",
        "cdf_normal = norm.cdf(sorted_vote_counts, mean, std_dev)\n",
        "\n",
        "# Plot ECDF and CDF\n",
        "plt.figure(figsize=(10, 6))\n",
        "plt.step(sorted_vote_counts, ecdf, label='ECDF of the sample')\n",
        "plt.plot(sorted_vote_counts, cdf_normal, label='Theoretical Normal CDF', linestyle='--')\n",
        "plt.xlabel('Number of votes')\n",
        "plt.ylabel('Cumulative probability')\n",
        "plt.title('Comparison of the Sample ECDF with the Theoretical Normal CDF')\n",
        "plt.legend()\n",
        "plt.grid(True)\n",
        "plt.show()"
      ],
      "execution_count": null,
      "outputs": [
        {
          "output_type": "display_data",
          "data": {
            "text/plain": [
              "<Figure size 1000x600 with 1 Axes>"
            ],
            "image/png": "[encoded data removed]"
          },
          "metadata": {}
        }
      ]
    }
  ]
}